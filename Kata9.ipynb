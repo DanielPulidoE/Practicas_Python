{
 "cells": [
  {
   "cell_type": "markdown",
   "metadata": {},
   "source": [
    "## Ejercicio 1: Trabajar con argumentos en funciones."
   ]
  },
  {
   "cell_type": "code",
   "execution_count": 98,
   "metadata": {},
   "outputs": [],
   "source": [
    "def reporte_combustible(tanque_principal, tanque_externo, tanque_hydrogeno):\n",
    "    media = (tanque_principal + tanque_externo + tanque_hydrogeno) / 3\n",
    "    return f\"\"\"Total de Combustible:\n",
    "    Total Media: {media}%\n",
    "    Tanque Principal: {tanque_principal}%\n",
    "    Tanque Secudario: {tanque_externo}%\n",
    "    Tanque Hydrogeno: {tanque_hydrogeno}%\n",
    "    \"\"\"\n"
   ]
  },
  {
   "cell_type": "code",
   "execution_count": 99,
   "metadata": {},
   "outputs": [
    {
     "name": "stdout",
     "output_type": "stream",
     "text": [
      "Total de Combustible:\n",
      "    Total Media: 78.33333333333333%\n",
      "    Tanque Principal: 80%\n",
      "    Tanque Secudario: 70%\n",
      "    Tanque Hydrogeno: 85%\n",
      "    \n"
     ]
    }
   ],
   "source": [
    "def reporte_combustible(tanque_principal, tanque_externo, tanque_hydrogeno):\n",
    "    media = (tanque_principal + tanque_externo + tanque_hydrogeno) / 3\n",
    "    return f\"\"\"Total de Combustible:\n",
    "    Total Media: {media}%\n",
    "    Tanque Principal: {tanque_principal}%\n",
    "    Tanque Secudario: {tanque_externo}%\n",
    "    Tanque Hydrogeno: {tanque_hydrogeno}%\n",
    "    \"\"\"\n",
    "print(reporte_combustible(80, 70, 85))"
   ]
  },
  {
   "cell_type": "code",
   "execution_count": 100,
   "metadata": {},
   "outputs": [
    {
     "data": {
      "text/plain": [
       "82.0"
      ]
     },
     "execution_count": 100,
     "metadata": {},
     "output_type": "execute_result"
    }
   ],
   "source": [
    "def reporte_combustible(tanque_principal, tanque_externo, tanque_hydrogeno):\n",
    "    media = (tanque_principal + tanque_externo + tanque_hydrogeno) / 3\n",
    "    return f\"\"\"Total de Combustible:\n",
    "    Total Media: {media}%\n",
    "    Tanque Principal: {tanque_principal}%\n",
    "    Tanque Secudario: {tanque_externo}%\n",
    "    Tanque Hydrogeno: {tanque_hydrogeno}%\n",
    "    \"\"\"\n",
    "def promedio(values):\n",
    "    total = sum(values)\n",
    "    numero_objetos = len(values)\n",
    "    return total / numero_objetos\n",
    "promedio([80, 85, 81])"
   ]
  },
  {
   "cell_type": "code",
   "execution_count": 101,
   "metadata": {},
   "outputs": [
    {
     "name": "stdout",
     "output_type": "stream",
     "text": [
      "Total de Combustible:\n",
      "    Total Media: 78.0%\n",
      "    Tanque Principal: 88%\n",
      "    Tanque Secudario: 76%\n",
      "    Tanque Hydrogeno: 70%\n",
      "    \n"
     ]
    }
   ],
   "source": [
    "def reporte_combustible(tanque_principal, tanque_externo, tanque_hydrogeno):\n",
    "    media = (tanque_principal + tanque_externo + tanque_hydrogeno) / 3\n",
    "    return f\"\"\"Total de Combustible:\n",
    "    Total Media: {media}%\n",
    "    Tanque Principal: {tanque_principal}%\n",
    "    Tanque Secudario: {tanque_externo}%\n",
    "    Tanque Hydrogeno: {tanque_hydrogeno}%\n",
    "    \"\"\"\n",
    "print(reporte_combustible(88, 76, 70))"
   ]
  },
  {
   "cell_type": "markdown",
   "metadata": {},
   "source": [
    "## Ejercicio 2: Trabajo con argumentos de palabra clave."
   ]
  },
  {
   "cell_type": "code",
   "execution_count": 102,
   "metadata": {},
   "outputs": [
    {
     "name": "stdout",
     "output_type": "stream",
     "text": [
      "\n",
      "    Misión hacia Luna\n",
      "    Tiempo total de vuelo: 65 minutos\n",
      "    Total fuel left: 500000 galones\n",
      "    \n"
     ]
    }
   ],
   "source": [
    "def reporte_mision(tiempo_prelanzamiento, tiempo_de_vuelo, destino, tanque_externo, tanque_interno):\n",
    "    return f\"\"\"\n",
    "    Misión hacia {destino}\n",
    "    Tiempo total de vuelo: {tiempo_prelanzamiento + tiempo_de_vuelo} minutos\n",
    "    Total fuel left: {tanque_externo + tanque_interno} galones\n",
    "    \"\"\"\n",
    "\n",
    "print(reporte_mision(14, 51, \"Luna\", 200000, 300000))"
   ]
  },
  {
   "cell_type": "code",
   "execution_count": 103,
   "metadata": {},
   "outputs": [
    {
     "name": "stdout",
     "output_type": "stream",
     "text": [
      "\n",
      "    Misión hacia Luna\n",
      "    Tiempo de vuelo: 76 minutes\n",
      "    Combustible: 500000\n",
      "    \n"
     ]
    }
   ],
   "source": [
    "def reporte_mision(destino, *minutos, **combustible):\n",
    "    return f\"\"\"\n",
    "    Misión hacia {destino}\n",
    "    Tiempo de vuelo: {sum(minutos)} minutes\n",
    "    Combustible: {sum(combustible.values())}\n",
    "    \"\"\"\n",
    "print(reporte_mision(\"Luna\", 10, 15, 51, tanque_interno=300000, tanque_externo=200000))"
   ]
  },
  {
   "cell_type": "code",
   "execution_count": 3,
   "metadata": {},
   "outputs": [
    {
     "name": "stdout",
     "output_type": "stream",
     "text": [
      "\n",
      "    Misión hacia Luna\n",
      "    Tiempo de vuelo: 74 minutos\n",
      "    Total de Combustible: 500000\n",
      "    Primer tanque --> 300000 galones de combustible.\n",
      "Segundo tanque --> 200000 galones de combustible.\n",
      "\n"
     ]
    }
   ],
   "source": [
    "def reporte_mision(destino, *minutos, **combustible):\n",
    "    reporte_principal = f\"\"\"\n",
    "    Misión hacia {destino}\n",
    "    Tiempo de vuelo: {sum(minutos)} minutos\n",
    "    Total de Combustible: {sum(combustible.values())}\n",
    "    \"\"\"\n",
    "    for tanques, galones in combustible.items():\n",
    "        reporte_principal += f\"{tanques} tanque --> {galones} galones de combustible.\\n\"\n",
    "    return reporte_principal\n",
    "\n",
    "print(reporte_mision(\"Luna\", 8, 11, 55, Primer=300000, Segundo=200000))"
   ]
  }
 ],
 "metadata": {
  "interpreter": {
   "hash": "a8bdc5f908913917d705f11b2f9b078903705393effb648680b49e11995bf480"
  },
  "kernelspec": {
   "display_name": "Python 3.8.9 64-bit",
   "language": "python",
   "name": "python3"
  },
  "language_info": {
   "codemirror_mode": {
    "name": "ipython",
    "version": 3
   },
   "file_extension": ".py",
   "mimetype": "text/x-python",
   "name": "python",
   "nbconvert_exporter": "python",
   "pygments_lexer": "ipython3",
   "version": "3.8.9"
  },
  "orig_nbformat": 4
 },
 "nbformat": 4,
 "nbformat_minor": 2
}
