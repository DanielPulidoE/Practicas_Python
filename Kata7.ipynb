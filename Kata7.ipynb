{
 "cells": [
  {
   "cell_type": "markdown",
   "metadata": {},
   "source": [
    "## Ejercicio 1: Uso de ciclos ``while`` en Python."
   ]
  },
  {
   "cell_type": "code",
   "execution_count": 2,
   "metadata": {},
   "outputs": [
    {
     "name": "stdout",
     "output_type": "stream",
     "text": [
      "['Mercurio', 'Venus', 'Tierra', 'Marte']\n"
     ]
    }
   ],
   "source": [
    "input_planetas = ''\n",
    "inputs = []\n",
    "\n",
    "while input_planetas.lower() != 'done':\n",
    "    if input_planetas:\n",
    "        inputs.append(input_planetas)\n",
    "    input_planetas = input('Escriba sus planetas, o done para salir.')\n",
    "print(inputs)"
   ]
  },
  {
   "cell_type": "markdown",
   "metadata": {},
   "source": [
    "## Ejercicio 2: Creando un ciclo ``for``."
   ]
  },
  {
   "cell_type": "code",
   "execution_count": 4,
   "metadata": {},
   "outputs": [
    {
     "name": "stdout",
     "output_type": "stream",
     "text": [
      "Mercurio\n",
      "Venus\n",
      "Tierra\n",
      "Marte\n",
      "Despegar.!! 🚀\n"
     ]
    }
   ],
   "source": [
    "input_planetas = ''\n",
    "inputs = []\n",
    "countdown = [3, 2, 1, 0]\n",
    "from time import sleep\n",
    "while input_planetas.lower() != 'done':\n",
    "    if input_planetas:\n",
    "        inputs.append(input_planetas)\n",
    "    input_planetas = input('Escriba sus planetas, o done para salir.')\n",
    "for input_planetas in inputs:    \n",
    "    print(input_planetas)\n",
    "    sleep(1)\n",
    "print(\"Despegar.!! 🚀\")"
   ]
  }
 ],
 "metadata": {
  "interpreter": {
   "hash": "a8bdc5f908913917d705f11b2f9b078903705393effb648680b49e11995bf480"
  },
  "kernelspec": {
   "display_name": "Python 3.8.9 64-bit",
   "language": "python",
   "name": "python3"
  },
  "language_info": {
   "codemirror_mode": {
    "name": "ipython",
    "version": 3
   },
   "file_extension": ".py",
   "mimetype": "text/x-python",
   "name": "python",
   "nbconvert_exporter": "python",
   "pygments_lexer": "ipython3",
   "version": "3.8.9"
  },
  "orig_nbformat": 4
 },
 "nbformat": 4,
 "nbformat_minor": 2
}
